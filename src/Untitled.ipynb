{
 "cells": [
  {
   "cell_type": "code",
   "execution_count": 1,
   "metadata": {},
   "outputs": [
    {
     "name": "stdout",
     "output_type": "stream",
     "text": [
      "Using device: cuda\n"
     ]
    }
   ],
   "source": [
    "import warnings\n",
    "warnings.filterwarnings('ignore')\n",
    "\n",
    "from stsgcn.train import train\n",
    "\n"
   ]
  },
  {
   "cell_type": "code",
   "execution_count": null,
   "metadata": {
    "scrolled": false
   },
   "outputs": [
    {
     "name": "stdout",
     "output_type": "stream",
     "text": [
      "Total number of parameters: 1270990\n",
      "stsgcn_transformer 10 25\n",
      "Epoch: 0 Train loss: 295.9813232421875 Validation loss: 164.07020568847656\n",
      "Saving the best model...\n",
      "Epoch: 1 Train loss: 211.1516571044922\n",
      "Epoch: 2 Train loss: 220.07516479492188\n",
      "Epoch: 3 Train loss: 222.0894775390625 Validation loss: 185.9124755859375\n",
      "Epoch: 4 Train loss: 204.8774871826172\n",
      "Epoch: 5 Train loss: 184.88168334960938\n",
      "Epoch: 6 Train loss: 204.39108276367188 Validation loss: 168.7181396484375\n",
      "Epoch: 7 Train loss: 194.9337615966797\n"
     ]
    }
   ],
   "source": [
    "config_path = \"../configs/stsgcn_config.yaml\"\n",
    "\n",
    "train(config_path)"
   ]
  },
  {
   "cell_type": "code",
   "execution_count": 3,
   "metadata": {},
   "outputs": [],
   "source": [
    "### to do: \n",
    "# 0) keep trying different architectures, while doing this do below steps\n",
    "# 1) check code for any errors, MUST DO\n",
    "# 2) implement lstm\n",
    "\n",
    "# 3) try without pe and mask, if it diverges than convering to 100 is sensible somehow"
   ]
  },
  {
   "cell_type": "code",
   "execution_count": null,
   "metadata": {},
   "outputs": [],
   "source": []
  },
  {
   "cell_type": "code",
   "execution_count": null,
   "metadata": {},
   "outputs": [],
   "source": []
  },
  {
   "cell_type": "code",
   "execution_count": null,
   "metadata": {},
   "outputs": [],
   "source": []
  }
 ],
 "metadata": {
  "kernelspec": {
   "display_name": "dlproject",
   "language": "python",
   "name": "dlproject"
  },
  "language_info": {
   "codemirror_mode": {
    "name": "ipython",
    "version": 3
   },
   "file_extension": ".py",
   "mimetype": "text/x-python",
   "name": "python",
   "nbconvert_exporter": "python",
   "pygments_lexer": "ipython3",
   "version": "3.8.5"
  }
 },
 "nbformat": 4,
 "nbformat_minor": 2
}
